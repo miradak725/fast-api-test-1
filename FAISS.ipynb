{
 "cells": [
  {
   "cell_type": "code",
   "execution_count": 1,
   "id": "0636f663",
   "metadata": {},
   "outputs": [
    {
     "name": "stdout",
     "output_type": "stream",
     "text": [
      "/bin/bash: line 1: nvdia-smi: command not found\n"
     ]
    }
   ],
   "source": [
    "!nvdia-smi"
   ]
  },
  {
   "cell_type": "code",
   "execution_count": 2,
   "id": "f65ac761",
   "metadata": {},
   "outputs": [
    {
     "name": "stdout",
     "output_type": "stream",
     "text": [
      "Package                 Version\n",
      "----------------------- --------------\n",
      "asttokens               3.0.0\n",
      "attrs                   23.2.0\n",
      "Babel                   2.10.3\n",
      "bcc                     0.29.1\n",
      "blinker                 1.7.0\n",
      "Brlapi                  0.8.5\n",
      "build                   1.0.3\n",
      "CacheControl            0.14.0\n",
      "certifi                 2023.11.17\n",
      "chardet                 5.2.0\n",
      "cleo                    2.1.0\n",
      "click                   8.1.6\n",
      "cloud-init              25.1.4\n",
      "colorama                0.4.6\n",
      "comm                    0.2.3\n",
      "command-not-found       0.3\n",
      "configobj               5.0.8\n",
      "crashtest               0.4.1\n",
      "cryptography            41.0.7\n",
      "cupshelpers             1.0\n",
      "dbus-python             1.3.2\n",
      "debugpy                 1.8.17\n",
      "decorator               5.2.1\n",
      "defer                   1.0.6\n",
      "distlib                 0.3.8\n",
      "distro                  1.9.0\n",
      "distro-info             1.7+build1\n",
      "dulwich                 0.21.6\n",
      "executing               2.2.1\n",
      "fastimport              0.9.14\n",
      "fastjsonschema          2.19.0\n",
      "filelock                3.13.1\n",
      "httplib2                0.20.4\n",
      "idna                    3.6\n",
      "importlib-metadata      4.12.0\n",
      "installer               0.7.0\n",
      "ipykernel               7.0.1\n",
      "ipython                 9.6.0\n",
      "ipython_pygments_lexers 1.1.1\n",
      "jaraco.classes          3.2.1\n",
      "jedi                    0.19.2\n",
      "jeepney                 0.8.0\n",
      "Jinja2                  3.1.2\n",
      "jsonpatch               1.32\n",
      "jsonpointer             2.0\n",
      "jsonschema              4.10.3\n",
      "jupyter_client          8.6.3\n",
      "jupyter_core            5.8.1\n",
      "keyring                 24.3.1\n",
      "language-selector       0.1\n",
      "launchpadlib            1.11.0\n",
      "lazr.restfulclient      0.14.6\n",
      "lazr.uri                1.0.6\n",
      "lockfile                0.12.2\n",
      "louis                   3.29.0\n",
      "markdown-it-py          3.0.0\n",
      "MarkupSafe              2.1.5\n",
      "matplotlib-inline       0.1.7\n",
      "mdurl                   0.1.2\n",
      "more-itertools          10.2.0\n",
      "msgpack                 1.0.3\n",
      "nest-asyncio            1.6.0\n",
      "netaddr                 0.8.0\n",
      "oauthlib                3.2.2\n",
      "olefile                 0.46\n",
      "packaging               25.0\n",
      "parso                   0.8.5\n",
      "pexpect                 4.9.0\n",
      "pillow                  10.2.0\n",
      "pip                     24.0\n",
      "pipenv                  2023.12.1\n",
      "pkginfo                 1.9.6\n",
      "platformdirs            4.5.0\n",
      "poetry                  1.8.2\n",
      "poetry-core             1.9.0\n",
      "poetry-plugin-export    1.6.0\n",
      "prompt_toolkit          3.0.52\n",
      "psutil                  7.1.0\n",
      "ptyprocess              0.7.0\n",
      "pure_eval               0.2.3\n",
      "pycairo                 1.25.1\n",
      "pycups                  2.0.1\n",
      "Pygments                2.19.2\n",
      "PyGObject               3.48.2\n",
      "PyJWT                   2.7.0\n",
      "pylev                   1.4.0\n",
      "pyparsing               3.1.1\n",
      "pyproject_hooks         1.0.0\n",
      "PyQt5                   5.15.10\n",
      "PyQt5-sip               12.13.0\n",
      "PyQtWebEngine           5.15.6\n",
      "pyrsistent              0.20.0\n",
      "pyserial                3.5\n",
      "python-apt              2.7.7+ubuntu5\n",
      "python-dateutil         2.9.0.post0\n",
      "python-debian           0.1.49+ubuntu2\n",
      "pytz                    2024.1\n",
      "pyxdg                   0.28\n",
      "PyYAML                  6.0.1\n",
      "pyzmq                   27.1.0\n",
      "QtPy                    2.4.1\n",
      "requests                2.31.0\n",
      "requests-toolbelt       1.0.0\n",
      "rich                    13.7.1\n",
      "screen-resolution-extra 0.0.0\n",
      "SecretStorage           3.3.3\n",
      "setuptools              68.1.2\n",
      "shellingham             1.5.4\n",
      "six                     1.17.0\n",
      "stack-data              0.6.3\n",
      "systemd-python          235\n",
      "toml                    0.10.2\n",
      "tomlkit                 0.12.4\n",
      "tornado                 6.5.2\n",
      "traitlets               5.14.3\n",
      "trove-classifiers       2024.1.31\n",
      "typing_extensions       4.10.0\n",
      "ubuntu-drivers-common   0.0.0\n",
      "ubuntu-pro-client       8001\n",
      "ufw                     0.36.2\n",
      "unattended-upgrades     0.1\n",
      "urllib3                 2.0.7\n",
      "virtualenv              20.25.0+ds\n",
      "wadllib                 1.3.6\n",
      "wcwidth                 0.2.14\n",
      "wheel                   0.42.0\n",
      "xdg                     5\n",
      "xkit                    0.0.0\n",
      "zipp                    1.0.0\n"
     ]
    }
   ],
   "source": [
    "!pip list"
   ]
  },
  {
   "cell_type": "code",
   "execution_count": 3,
   "id": "f3442b38",
   "metadata": {},
   "outputs": [
    {
     "name": "stdout",
     "output_type": "stream",
     "text": [
      "\u001b[1;31merror\u001b[0m: \u001b[1mexternally-managed-environment\u001b[0m\n",
      "\n",
      "\u001b[31m×\u001b[0m This environment is externally managed\n",
      "\u001b[31m╰─>\u001b[0m To install Python packages system-wide, try apt install\n",
      "\u001b[31m   \u001b[0m python3-xyz, where xyz is the package you are trying to\n",
      "\u001b[31m   \u001b[0m install.\n",
      "\u001b[31m   \u001b[0m \n",
      "\u001b[31m   \u001b[0m If you wish to install a non-Debian-packaged Python package,\n",
      "\u001b[31m   \u001b[0m create a virtual environment using python3 -m venv path/to/venv.\n",
      "\u001b[31m   \u001b[0m Then use path/to/venv/bin/python and path/to/venv/bin/pip. Make\n",
      "\u001b[31m   \u001b[0m sure you have python3-full installed.\n",
      "\u001b[31m   \u001b[0m \n",
      "\u001b[31m   \u001b[0m If you wish to install a non-Debian packaged Python application,\n",
      "\u001b[31m   \u001b[0m it may be easiest to use pipx install xyz, which will manage a\n",
      "\u001b[31m   \u001b[0m virtual environment for you. Make sure you have pipx installed.\n",
      "\u001b[31m   \u001b[0m \n",
      "\u001b[31m   \u001b[0m See /usr/share/doc/python3.12/README.venv for more information.\n",
      "\n",
      "\u001b[1;35mnote\u001b[0m: If you believe this is a mistake, please contact your Python installation or OS distribution provider. You can override this, at the risk of breaking your Python installation or OS, by passing --break-system-packages.\n",
      "\u001b[1;36mhint\u001b[0m: See PEP 668 for the detailed specification.\n"
     ]
    }
   ],
   "source": [
    "!pip install langchain langchain-community faiss-cpu pypdf langchain-huggingface sentence-transformers transformers huggingfacce_hub"
   ]
  },
  {
   "cell_type": "code",
   "execution_count": null,
   "id": "64d32265",
   "metadata": {},
   "outputs": [],
   "source": [
    "import faiss\n",
    "import os\n",
    "from langchain.docstore.document import Document\n",
    "from langchain_community.vectorstores import FAISS\n",
    "from langchain_community.document_loaders import PyPDFLoader\n",
    "from langchain.text_splitter import RecursiveCharacterTextSplitter\n",
    "from langchain_huggingface import HuggingFaceEmbeddings\n"
   ]
  },
  {
   "cell_type": "code",
   "execution_count": null,
   "id": "bfa98ba7",
   "metadata": {},
   "outputs": [],
   "source": [
    "embeddings=HuggingFaceEmbeddings(model_name=\"BAAI/bge-large-en\")"
   ]
  },
  {
   "cell_type": "code",
   "execution_count": null,
   "id": "06979231",
   "metadata": {},
   "outputs": [],
   "source": [
    "!pip show torch\n",
    "!pip show transformers  "
   ]
  },
  {
   "cell_type": "code",
   "execution_count": null,
   "id": "82d09147",
   "metadata": {},
   "outputs": [],
   "source": [
    "!pip show sentence_transformers"
   ]
  },
  {
   "cell_type": "code",
   "execution_count": null,
   "id": "19d793b8",
   "metadata": {},
   "outputs": [],
   "source": [
    "index = faiss.IndexFlatL2(len(embeddings.embed_query(\"hello world\")))"
   ]
  },
  {
   "cell_type": "code",
   "execution_count": null,
   "id": "77828d43",
   "metadata": {},
   "outputs": [],
   "source": [
    "uploaded_file = \"uploaded_pdfs/sample.txt\"\n",
    "\n",
    "file_path = os.path.join(os.getcwd(), uploaded_file)"
   ]
  },
  {
   "cell_type": "code",
   "execution_count": null,
   "id": "3c11a4d2",
   "metadata": {},
   "outputs": [],
   "source": [
    "if os.path.exists(file_path):\n",
    "    with open(file_path, \"r\", encoding=\"utf-8\", errors=\"ignore\") as f:\n",
    "        document = f.read()\n",
    "    print(f\"Loaded file: sample.txt\")\n",
    "    print(\"\\nFile preview:\\n\")\n",
    "    print(document[:500])  # show first 500 chars\n",
    "else:\n",
    "    raise FileNotFoundError(f\"File not found: {file_path}\")"
   ]
  },
  {
   "cell_type": "code",
   "execution_count": null,
   "id": "8e74330a",
   "metadata": {},
   "outputs": [],
   "source": [
    "#split documents into chunks\n",
    "text_splitter = RecursiveCharacterTextSplitter(\n",
    "    chunk_size=1000,  # chunk size (characters)\n",
    "    chunk_overlap=200,  # chunk overlap (characters)\n",
    "    add_start_index=True,  # track index in original document\n",
    ")\n",
    "doc=Document(page_content=document)\n",
    "split_docs = text_splitter.split_documents([doc])\n",
    "\n",
    "print(f\"Split blog post into {len(split_docs)} sub-documents.\")"
   ]
  },
  {
   "cell_type": "code",
   "execution_count": null,
   "id": "fbdf75c9",
   "metadata": {},
   "outputs": [],
   "source": []
  },
  {
   "cell_type": "code",
   "execution_count": null,
   "id": "e2b941f9",
   "metadata": {},
   "outputs": [],
   "source": [
    "# #Create the vector store\n",
    "# vector_store = FAISS(\n",
    "#     embedding_function=embeddings,\n",
    "#     index=index,\n",
    "#     docstore=InMemoryDocstore(),\n",
    "#     index_to_docstore_id={},\n",
    "# )"
   ]
  },
  {
   "cell_type": "code",
   "execution_count": null,
   "id": "a29dabdf",
   "metadata": {},
   "outputs": [],
   "source": [
    "# embedding = model.embed(text)"
   ]
  },
  {
   "cell_type": "code",
   "execution_count": null,
   "id": "c1f2ab4c",
   "metadata": {},
   "outputs": [],
   "source": [
    "# 3. Create the FAISS vector store\n",
    "vector_store = FAISS.from_documents(split_docs, embeddings)"
   ]
  }
 ],
 "metadata": {
  "kernelspec": {
   "display_name": "Python 3",
   "language": "python",
   "name": "python3"
  },
  "language_info": {
   "codemirror_mode": {
    "name": "ipython",
    "version": 3
   },
   "file_extension": ".py",
   "mimetype": "text/x-python",
   "name": "python",
   "nbconvert_exporter": "python",
   "pygments_lexer": "ipython3",
   "version": "3.12.3"
  }
 },
 "nbformat": 4,
 "nbformat_minor": 5
}
