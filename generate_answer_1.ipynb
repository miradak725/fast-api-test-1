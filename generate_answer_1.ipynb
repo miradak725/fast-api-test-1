{
 "cells": [
  {
   "cell_type": "code",
   "execution_count": 1,
   "id": "3ed3a224",
   "metadata": {},
   "outputs": [
    {
     "name": "stderr",
     "output_type": "stream",
     "text": [
      "/home/lahirum/Documents/Mirada/RnD/FastApi/test2/.venv/lib/python3.12/site-packages/tqdm/auto.py:21: TqdmWarning: IProgress not found. Please update jupyter and ipywidgets. See https://ipywidgets.readthedocs.io/en/stable/user_install.html\n",
      "  from .autonotebook import tqdm as notebook_tqdm\n"
     ]
    }
   ],
   "source": [
    "import faiss\n",
    "import os\n",
    "from langchain_community.vectorstores import FAISS\n",
    "from langchain_huggingface import HuggingFaceEmbeddings"
   ]
  },
  {
   "cell_type": "code",
   "execution_count": 2,
   "id": "c72bc05f",
   "metadata": {},
   "outputs": [
    {
     "name": "stderr",
     "output_type": "stream",
     "text": [
      "/home/lahirum/Documents/Mirada/RnD/FastApi/test2/.venv/lib/python3.12/site-packages/torch/cuda/__init__.py:182: UserWarning: CUDA initialization: Unexpected error from cudaGetDeviceCount(). Did you run some cuda functions before calling NumCudaDevices() that might have already set an error? Error 804: forward compatibility was attempted on non supported HW (Triggered internally at /pytorch/c10/cuda/CUDAFunctions.cpp:119.)\n",
      "  return torch._C._cuda_getDeviceCount() > 0\n"
     ]
    }
   ],
   "source": [
    "embeddings=HuggingFaceEmbeddings(model_name=\"BAAI/bge-large-en\")"
   ]
  },
  {
   "cell_type": "code",
   "execution_count": 3,
   "id": "ed250952",
   "metadata": {},
   "outputs": [],
   "source": [
    "#load vector store\n",
    "vector_store=FAISS.load_local(\"vector_store\",embeddings,allow_dangerous_deserialization=True)"
   ]
  },
  {
   "cell_type": "code",
   "execution_count": 4,
   "id": "12a8af09",
   "metadata": {},
   "outputs": [],
   "source": [
    "question = \"What is the total face value of the convertible note?\""
   ]
  },
  {
   "cell_type": "code",
   "execution_count": null,
   "id": "0e97f64e",
   "metadata": {},
   "outputs": [
    {
     "name": "stdout",
     "output_type": "stream",
     "text": [
      "2025-10-22 12:55:14,780 - logger - INFO - Logger initialized.\n"
     ]
    }
   ],
   "source": [
    "from langchain_core.runnables import RunnablePassthrough\n",
    "from langchain_core.output_parsers import StrOutputParser\n",
    "from langchain_community.vectorstores import FAISS\n",
    "from langchain_huggingface import HuggingFaceEmbeddings\n",
    "from langchain_ollama import ChatOllama\n",
    "from langchain_core.prompts import ChatPromptTemplate\n",
    "from core.logger import logger\n"
   ]
  },
  {
   "cell_type": "code",
   "execution_count": 6,
   "id": "9cdc18f3",
   "metadata": {},
   "outputs": [],
   "source": [
    "embedding_model = \"BAAI/bge-large-en\"\n",
    "vector_store_path= \"vector_store\"\n",
    "retrieve_method =\"max_marginal_relevance\"\n"
   ]
  },
  {
   "cell_type": "code",
   "execution_count": 7,
   "id": "64787aa6",
   "metadata": {},
   "outputs": [],
   "source": [
    "# ------------ Retrieval -----------------------------------------------------\n",
    "def retrieve(retrieve_method:str):\n",
    "    \"\"\"\n",
    "    Load FAISS vector store and return retriever.\n",
    "    \"\"\"\n",
    "    logger.info(f\"Initializing retriever using {embedding_model} and method: {retrieve_method}\")\n",
    "    embeddings = HuggingFaceEmbeddings(model_name=embedding_model)\n",
    "    logger.debug(\"Embeddings model loaded successfully.\")\n",
    "\n",
    "    #load vector store\n",
    "    vector_store = FAISS.load_local(vector_store_path,embeddings,allow_dangerous_deserialization=True)\n",
    "    retriever = vector_store.as_retriever(search_type=\"mmr\")\n",
    "    logger.debug(f\"Vector store loaded from path: {vector_store_path}\")\n",
    "\n",
    "\n",
    "    return retriever\n"
   ]
  },
  {
   "cell_type": "code",
   "execution_count": 8,
   "id": "088f43a6",
   "metadata": {},
   "outputs": [],
   "source": [
    "\n",
    "# --------------- Answer Generation -------------------------------------------\n",
    "def generate_answer(question,retriever):\n",
    "    \"\"\"\n",
    "    Generate an answer using RAG pipeline.\n",
    "    \"\"\"\n",
    "\n",
    "    try:\n",
    "        logger.info(f\"Generating answer for question: {question}\")\n",
    "\n",
    "        retrieved_docs=retriever.invoke(question)\n",
    "        print(f\"retrieved_docs:{retrieved_docs}\")\n",
    "        context=\"\\\\n\".join([d.page_content for d in retrieved_docs])\n",
    "\n",
    "        logger.debug(f\"retrived content: {context}\")\n",
    "        logger.info(\"documents retrieved successfully\")\n",
    "        \n",
    "        # Define a chat prompt template composed of system and user messages\n",
    "        chat_template= ChatPromptTemplate.from_messages([\n",
    "        {\"role\": \"system\", \"content\": \"\"\"Using the information contained in the context,\n",
    "        give a comprehensive answer to the question.\n",
    "        Respond only to the question asked, response should be concise and relevant to the question.\n",
    "        Provide the number of the source document when relevant.\n",
    "        If the answer cannot be deduced from the context, do not give an answer.\"\"\"},\n",
    "        {\"role\": \"user\", \"content\": f\"\"\"Context:\n",
    "        {context}\n",
    "        ---\n",
    "        Now here is the question you need to answer.\n",
    "\n",
    "        Question: {question}\"\"\"},\n",
    "        ])\n",
    "\n",
    "        logger.debug(\"Chat prompt template created.\")\n",
    "\n",
    "        logger.info(\"Initializing Ollama model...\")\n",
    "        llm= ChatOllama(\n",
    "            model=\"llama3.2\", \n",
    "            messages=chat_template,\n",
    "            think=False,\n",
    "            options={\n",
    "                \"num_predict\": 4096,\n",
    "                \"temperature\": 0.6,\n",
    "                \"top_p\": 0.95,\n",
    "                \"top_k\": 20,\n",
    "                \"repeat_penalty\": 1.05,\n",
    "            }    \n",
    "        )\n",
    "        logger.info(\"Ollama model initialized successfully.\")\n",
    "\n",
    "        chain = chat_template|llm\n",
    "        answer = chain.invoke({\"question\": question})\n",
    "        logger.info(\"Answer generated successfully.\")\n",
    "        print(answer.content)\n",
    "        return answer.content , retrieved_docs\n",
    "    except Exception as e:\n",
    "        logger.exception(f\"Error generating answer: {e}\")\n",
    "        raise\n",
    "    "
   ]
  },
  {
   "cell_type": "code",
   "execution_count": null,
   "id": "19dab77d",
   "metadata": {},
   "outputs": [],
   "source": [
    "from app.utils.rag_chain import generate_answer, retrieve, retrieve_method"
   ]
  },
  {
   "cell_type": "code",
   "execution_count": 10,
   "id": "778507f1",
   "metadata": {},
   "outputs": [],
   "source": [
    "question = \"What is the total face value of the convertible note?\""
   ]
  },
  {
   "cell_type": "code",
   "execution_count": 11,
   "id": "ddab661b",
   "metadata": {},
   "outputs": [
    {
     "name": "stdout",
     "output_type": "stream",
     "text": [
      "2025-10-22 12:55:22,127 - logger - INFO - Initializing retriever using BAAI/bge-large-en and method: max_marginal_relevance\n"
     ]
    }
   ],
   "source": [
    "retriever= retrieve(retrieve_method)"
   ]
  },
  {
   "cell_type": "code",
   "execution_count": 40,
   "id": "c95eaf0c",
   "metadata": {},
   "outputs": [
    {
     "name": "stdout",
     "output_type": "stream",
     "text": [
      "2025-10-22 15:32:36,595 - logger - INFO - Generating answer for question: What is the total face value of the convertible note?\n",
      "[Document(id='3e138805-138c-4410-b78c-2d1f75ee707e', metadata={'source': './uploaded_pdfs/sample.txt'}, page_content='| Net cash from/(used in) investing activities                                              | 2,578,486                | (489,175)                    |\\n| Cash flows from financing activities                                                      |                          |                              |\\n| Proceeds from the issue of shares                                                         | -                        | 618,460                      |\\n| Payment of share issue costs                                                              | -                        | (22,500)                     |\\n| Payment of convertible note issue costs                                                   | (71,446)                 | -                            |\\n| Proceeds from borrowings - convertible notes payable                                      | 500,000                  | 1,400,000                    |\\n| Net cash from/(used in) financing activities                                              | 428,554                  | 1,995,960                    |\\n| Net decrease in cash and cash equivalents                                                 | (696,706)                | (2,863,234)                  |\\n| Cash and cash equivalents at the beginning of the financial year                          | 1,605,067                | 4,471,616                    |\\n| Effects of exchange rate changes on cash and cash equivalents                             | 12,574                   | (3,315)                      |\\n| Cash and cash equivalents at the end of the financial year                                | 920,935                  | 1,605,067                    |'), Document(id='f00d5e6c-b49a-4338-b3b8-e4cbd43e8bde', metadata={'source': './uploaded_pdfs/sample.txt'}, page_content='Cipherpoint Limited (Formerly known as Covata Limited) Notes to the consolidated financial statements 31 March 2020\\n\\n<!-- image -->'), Document(id='eb8b3af5-d8bc-47a1-8262-dfa6c3191334', metadata={'source': './uploaded_pdfs/sample.txt'}, page_content=\"## Note 15. Current liabilities - contract liabilities\\n\\n|                                                                                                                                                    | Consolidated   | Consolidated   |\\n|----------------------------------------------------------------------------------------------------------------------------------------------------|----------------|----------------|\\n|                                                                                                                                                    | 31 Mar 2020 $  | 31 Mar 2019 $  |\\n| Contract liabilities                                                                                                                               | 188,990        | 163,882        |\\n| Reconciliation                                                                                                                                     |                |                |\\n| Reconciliation of the written down values at the beginning and end of the current and previous financial period are set out below: Opening balance | 163,882        | 559,003        |\\n| Payments received in advance                                                                                                                       | 571,025        | 197,910        |\\n| Transfer on transition to AASB 15 on 1 July 2018                                                                                                   | -              | (204,748)      |\\n| Contract liabilities held for sale                                                                                                                 | -              | (111,717)      |\\n| Contract liabilities disposed                                                                                                                      | (178,176)      |                |\\n| Transfer to revenue - performance obligations satisfied                                                                                            | (367,741)      | (276,566)      |\\n| Closing balance                                                                                                                                    | 188,990        | 163,882        |\\n\\n## Unsatisfied performance obligations (current and non-current)\\n\\nThe aggregate amount of the transaction price allocated to the performance obligations that are unsatisfied at the end of the reporting period was $217,522 as at 31 March 2020 ($182,431 as at 31 March 2019) and is expected to be recognised as revenue in future periods as follows:\\n\\n-\\n\\n-\\n\\n|                     | Consolidated   | Consolidated   |\\n|---------------------|----------------|----------------|\\n|                     | 31 Mar 2020 $  | 31 Mar 2019 $  |\\n| Within 6 months     | 124,112        | 93,051         |\\n| 6 to 12 months      | 60,198         | 70,888         |\\n| 12 to 18 months     | 10,445         | 18,492         |\\n| 18 to 24 months     | 8,696          | -              |\\n| More than 24 months | 14,071         | -              |\\n|                     | 217,522        | 182,431        |\\n\\nThe unsatisfied performance obligations include the non-current balance.\\n\\nCipherpoint Limited (Formerly known as Covata Limited) Notes to the consolidated financial statements 31 March 2020\\n\\n<!-- image -->\\n\\n## Note 16. Current liabilities - borrowings\\n\\n|                           | Consolidated    | Consolidated          |\\n|---------------------------|-----------------|-----------------------|\\n| Derivative liability      | 31 Mar 2020 $ - | 31 Mar 2019 $ 253,433 |\\n|                           | Consolidated    | Consolidated          |\\n|                           | 31 Mar 2020 $   | 31 Mar 2019 $         |\\n| Convertible notes payable | -               | 1,031,466             |\\n\\nRefer to note 22 for further information on financial instruments.\\n\\nThe Company issued 77,777,781 convertible notes at a price of $0.018 per note with 58,620,689 attaching warrants exercisable at $0.028 and with a term of 18 months from 22 February 2019.\\n\\nThe total face value of the convertible note was $1,400,000. This liability comprised of three components, being the host debt liability ($878,548), the embedded derivative liability ($253,433) for the conversion feature and the cost of the warrant issue ($268,019). The interest expense on the host liability component up to 31 March 2019 amounted to $152,918.\\n\\nThere was no movement in the fair value of the derivative liability at 31 March 2019. Due to the 6 month expiry of the convertible notes, the derivative liability was classified as current.\\n\\nThe cost of the warrants is disclosed in note 20.\\n\\nThe Company's obligations under the convertible notes was extinguished when the Cocoon sale was settled. Refer to note 8 for further information.\"), Document(id='81b3cb61-8ebf-453d-aa0d-e12974265a44', metadata={'source': './uploaded_pdfs/sample.txt'}, page_content=\"## Foreign currency translation\\n\\n## Foreign currency transactions\\n\\nForeign currency transactions are translated into Australian dollars using the exchange rates prevailing at the dates of the transactions. Foreign exchange gains and losses resulting from the settlement of such transactions and from the translation at financial year-end exchange rates of monetary assets and liabilities denominated in foreign currencies are recognised in profit or loss.\\n\\n## Foreign operations\\n\\nThe assets and liabilities of foreign operations are translated into Australian dollars using the exchange rates at the reporting date. The revenues and expenses of foreign operations are translated into Australian dollars using the average exchange rates, which approximate the rates at the dates of the transactions, for the period. All resulting foreign exchange differences are recognised in other comprehensive income through the foreign currency reserve in equity.\\n\\nThe foreign currency reserve is recognised in profit or loss when the foreign operation or net investment is disposed of.\\n\\n## Revenue recognition\\n\\nThe Group recognises revenue as follows:\\n\\n## Revenue from contracts with customers\\n\\nRevenue is recognised at an amount that reflects the consideration to which the Group is expected to be entitled in exchange for transferring goods or services to a customer. For each contract with a customer, the Group: identifies the contract with a customer; identifies the performance obligations in the contract; determines the transaction price which takes into account estimates of variable consideration and the time value of money; allocates the transaction price to the separate performance obligations on the basis of the relative stand-alone selling price of each distinct good or service to be delivered; and recognises revenue when or as each performance obligation is satisfied in a manner that depicts the transfer to the customer of the goods or services promised.\\n\\nVariable  consideration  within  the  transaction  price,  if  any,  reflects  concessions  provided  to  the  customer  such  as discounts, rebates and refunds, any potential bonuses receivable from the customer and any other contingent events. Such estimates are determined using either the 'expected value' or 'most likely amount' method. The measurement of variable consideration is subject to a constraining principle whereby revenue will only be recognised to the extent that it is  highly  probable  that  a  significant  reversal  in  the  amount  of  cumulative  revenue  recognised  will  not  occur.  The measurement  constraint  continues  until  the  uncertainty  associated  with  the  variable  consideration  is  subsequently resolved. Amounts received that are subject to the constraining principle are initially recognised as deferred revenue in the form of a separate refund liability.\\n\\n## Rendering of services\\n\\nRevenue from a contract to provide services is recognised over time as the services are rendered based on either a fixed price or an hourly rate.\\n\\nCipherpoint Limited (Formerly known as Covata Limited) Notes to the consolidated financial statements 31 March 2020\\n\\n## Note 2. Significant accounting policies (continued)\\n\\nTechnology related products and services are comprised of the following services:\\n\\n## (a) Software licence\\n\\nFor a sale of a software licence that the Group is not subject to significant integration services or continued maintenance and support, control transfers at the point in time the customer takes undisputed delivery of the goods. When such items are either customised or sold together with significant integration services, the goods and services represent a single combined performance obligation over which control is considered to transfer over time. This is because the combined product is unique to each customer (has no alternative use) and the Group has an enforceable right to payment for the work completed to date. Revenue for these performance obligations is recognised over time as the Group continues to support the license.\\n\\n## (b) Maintenance and support\\n\\nThe Group enters into maintenance and support contracts with its customers generally between one and three years in length, which includes customer support, updates and upgrades. Customers generally pay in advance for each 12-month service period and the relevant payment due dates are specified in each contract. Revenue is recognised over the life of the contract.\\n\\n## Research and development tax concession\\n\\nResearch and development tax incentives are recognised in the profit or loss when there is reasonable assurance that the Group will comply with the conditions attached to them.\")]\n",
      "2025-10-22 15:32:36,668 - logger - INFO - documents retrieved successfully\n",
      "2025-10-22 15:32:36,669 - logger - INFO - Initializing Ollama model...\n",
      "2025-10-22 15:32:36,684 - logger - INFO - Ollama model initialized successfully.\n",
      "2025-10-22 15:32:38,727 - logger - INFO - Answer generated successfully.\n",
      "The total face value of the convertible note is $1,400,000.\n"
     ]
    }
   ],
   "source": [
    "answer, references = generate_answer(question,retriever)"
   ]
  },
  {
   "cell_type": "code",
   "execution_count": 13,
   "id": "19975cf5",
   "metadata": {},
   "outputs": [
    {
     "data": {
      "text/plain": [
       "'The total face value of the convertible note was $1,400,000.'"
      ]
     },
     "execution_count": 13,
     "metadata": {},
     "output_type": "execute_result"
    }
   ],
   "source": [
    "answer"
   ]
  },
  {
   "cell_type": "code",
   "execution_count": 14,
   "id": "bc0c7a48",
   "metadata": {},
   "outputs": [
    {
     "data": {
      "text/plain": [
       "[Document(id='3e138805-138c-4410-b78c-2d1f75ee707e', metadata={'source': './uploaded_pdfs/sample.txt'}, page_content='| Net cash from/(used in) investing activities                                              | 2,578,486                | (489,175)                    |\\n| Cash flows from financing activities                                                      |                          |                              |\\n| Proceeds from the issue of shares                                                         | -                        | 618,460                      |\\n| Payment of share issue costs                                                              | -                        | (22,500)                     |\\n| Payment of convertible note issue costs                                                   | (71,446)                 | -                            |\\n| Proceeds from borrowings - convertible notes payable                                      | 500,000                  | 1,400,000                    |\\n| Net cash from/(used in) financing activities                                              | 428,554                  | 1,995,960                    |\\n| Net decrease in cash and cash equivalents                                                 | (696,706)                | (2,863,234)                  |\\n| Cash and cash equivalents at the beginning of the financial year                          | 1,605,067                | 4,471,616                    |\\n| Effects of exchange rate changes on cash and cash equivalents                             | 12,574                   | (3,315)                      |\\n| Cash and cash equivalents at the end of the financial year                                | 920,935                  | 1,605,067                    |'),\n",
       " Document(id='f00d5e6c-b49a-4338-b3b8-e4cbd43e8bde', metadata={'source': './uploaded_pdfs/sample.txt'}, page_content='Cipherpoint Limited (Formerly known as Covata Limited) Notes to the consolidated financial statements 31 March 2020\\n\\n<!-- image -->'),\n",
       " Document(id='eb8b3af5-d8bc-47a1-8262-dfa6c3191334', metadata={'source': './uploaded_pdfs/sample.txt'}, page_content=\"## Note 15. Current liabilities - contract liabilities\\n\\n|                                                                                                                                                    | Consolidated   | Consolidated   |\\n|----------------------------------------------------------------------------------------------------------------------------------------------------|----------------|----------------|\\n|                                                                                                                                                    | 31 Mar 2020 $  | 31 Mar 2019 $  |\\n| Contract liabilities                                                                                                                               | 188,990        | 163,882        |\\n| Reconciliation                                                                                                                                     |                |                |\\n| Reconciliation of the written down values at the beginning and end of the current and previous financial period are set out below: Opening balance | 163,882        | 559,003        |\\n| Payments received in advance                                                                                                                       | 571,025        | 197,910        |\\n| Transfer on transition to AASB 15 on 1 July 2018                                                                                                   | -              | (204,748)      |\\n| Contract liabilities held for sale                                                                                                                 | -              | (111,717)      |\\n| Contract liabilities disposed                                                                                                                      | (178,176)      |                |\\n| Transfer to revenue - performance obligations satisfied                                                                                            | (367,741)      | (276,566)      |\\n| Closing balance                                                                                                                                    | 188,990        | 163,882        |\\n\\n## Unsatisfied performance obligations (current and non-current)\\n\\nThe aggregate amount of the transaction price allocated to the performance obligations that are unsatisfied at the end of the reporting period was $217,522 as at 31 March 2020 ($182,431 as at 31 March 2019) and is expected to be recognised as revenue in future periods as follows:\\n\\n-\\n\\n-\\n\\n|                     | Consolidated   | Consolidated   |\\n|---------------------|----------------|----------------|\\n|                     | 31 Mar 2020 $  | 31 Mar 2019 $  |\\n| Within 6 months     | 124,112        | 93,051         |\\n| 6 to 12 months      | 60,198         | 70,888         |\\n| 12 to 18 months     | 10,445         | 18,492         |\\n| 18 to 24 months     | 8,696          | -              |\\n| More than 24 months | 14,071         | -              |\\n|                     | 217,522        | 182,431        |\\n\\nThe unsatisfied performance obligations include the non-current balance.\\n\\nCipherpoint Limited (Formerly known as Covata Limited) Notes to the consolidated financial statements 31 March 2020\\n\\n<!-- image -->\\n\\n## Note 16. Current liabilities - borrowings\\n\\n|                           | Consolidated    | Consolidated          |\\n|---------------------------|-----------------|-----------------------|\\n| Derivative liability      | 31 Mar 2020 $ - | 31 Mar 2019 $ 253,433 |\\n|                           | Consolidated    | Consolidated          |\\n|                           | 31 Mar 2020 $   | 31 Mar 2019 $         |\\n| Convertible notes payable | -               | 1,031,466             |\\n\\nRefer to note 22 for further information on financial instruments.\\n\\nThe Company issued 77,777,781 convertible notes at a price of $0.018 per note with 58,620,689 attaching warrants exercisable at $0.028 and with a term of 18 months from 22 February 2019.\\n\\nThe total face value of the convertible note was $1,400,000. This liability comprised of three components, being the host debt liability ($878,548), the embedded derivative liability ($253,433) for the conversion feature and the cost of the warrant issue ($268,019). The interest expense on the host liability component up to 31 March 2019 amounted to $152,918.\\n\\nThere was no movement in the fair value of the derivative liability at 31 March 2019. Due to the 6 month expiry of the convertible notes, the derivative liability was classified as current.\\n\\nThe cost of the warrants is disclosed in note 20.\\n\\nThe Company's obligations under the convertible notes was extinguished when the Cocoon sale was settled. Refer to note 8 for further information.\"),\n",
       " Document(id='81b3cb61-8ebf-453d-aa0d-e12974265a44', metadata={'source': './uploaded_pdfs/sample.txt'}, page_content=\"## Foreign currency translation\\n\\n## Foreign currency transactions\\n\\nForeign currency transactions are translated into Australian dollars using the exchange rates prevailing at the dates of the transactions. Foreign exchange gains and losses resulting from the settlement of such transactions and from the translation at financial year-end exchange rates of monetary assets and liabilities denominated in foreign currencies are recognised in profit or loss.\\n\\n## Foreign operations\\n\\nThe assets and liabilities of foreign operations are translated into Australian dollars using the exchange rates at the reporting date. The revenues and expenses of foreign operations are translated into Australian dollars using the average exchange rates, which approximate the rates at the dates of the transactions, for the period. All resulting foreign exchange differences are recognised in other comprehensive income through the foreign currency reserve in equity.\\n\\nThe foreign currency reserve is recognised in profit or loss when the foreign operation or net investment is disposed of.\\n\\n## Revenue recognition\\n\\nThe Group recognises revenue as follows:\\n\\n## Revenue from contracts with customers\\n\\nRevenue is recognised at an amount that reflects the consideration to which the Group is expected to be entitled in exchange for transferring goods or services to a customer. For each contract with a customer, the Group: identifies the contract with a customer; identifies the performance obligations in the contract; determines the transaction price which takes into account estimates of variable consideration and the time value of money; allocates the transaction price to the separate performance obligations on the basis of the relative stand-alone selling price of each distinct good or service to be delivered; and recognises revenue when or as each performance obligation is satisfied in a manner that depicts the transfer to the customer of the goods or services promised.\\n\\nVariable  consideration  within  the  transaction  price,  if  any,  reflects  concessions  provided  to  the  customer  such  as discounts, rebates and refunds, any potential bonuses receivable from the customer and any other contingent events. Such estimates are determined using either the 'expected value' or 'most likely amount' method. The measurement of variable consideration is subject to a constraining principle whereby revenue will only be recognised to the extent that it is  highly  probable  that  a  significant  reversal  in  the  amount  of  cumulative  revenue  recognised  will  not  occur.  The measurement  constraint  continues  until  the  uncertainty  associated  with  the  variable  consideration  is  subsequently resolved. Amounts received that are subject to the constraining principle are initially recognised as deferred revenue in the form of a separate refund liability.\\n\\n## Rendering of services\\n\\nRevenue from a contract to provide services is recognised over time as the services are rendered based on either a fixed price or an hourly rate.\\n\\nCipherpoint Limited (Formerly known as Covata Limited) Notes to the consolidated financial statements 31 March 2020\\n\\n## Note 2. Significant accounting policies (continued)\\n\\nTechnology related products and services are comprised of the following services:\\n\\n## (a) Software licence\\n\\nFor a sale of a software licence that the Group is not subject to significant integration services or continued maintenance and support, control transfers at the point in time the customer takes undisputed delivery of the goods. When such items are either customised or sold together with significant integration services, the goods and services represent a single combined performance obligation over which control is considered to transfer over time. This is because the combined product is unique to each customer (has no alternative use) and the Group has an enforceable right to payment for the work completed to date. Revenue for these performance obligations is recognised over time as the Group continues to support the license.\\n\\n## (b) Maintenance and support\\n\\nThe Group enters into maintenance and support contracts with its customers generally between one and three years in length, which includes customer support, updates and upgrades. Customers generally pay in advance for each 12-month service period and the relevant payment due dates are specified in each contract. Revenue is recognised over the life of the contract.\\n\\n## Research and development tax concession\\n\\nResearch and development tax incentives are recognised in the profit or loss when there is reasonable assurance that the Group will comply with the conditions attached to them.\")]"
      ]
     },
     "execution_count": 14,
     "metadata": {},
     "output_type": "execute_result"
    }
   ],
   "source": [
    "references"
   ]
  },
  {
   "cell_type": "code",
   "execution_count": 15,
   "id": "a3b16dcf",
   "metadata": {},
   "outputs": [],
   "source": [
    "from typing import List,Optional\n",
    "from pydantic import BaseModel"
   ]
  },
  {
   "cell_type": "code",
   "execution_count": 16,
   "id": "248a05a8",
   "metadata": {},
   "outputs": [],
   "source": [
    "class ChatRecord(BaseModel):\n",
    "    \"\"\"Response model for chat endpoint.\"\"\"\n",
    "    role: str\n",
    "    content: str\n",
    "    reference: Optional[List[str]] = []"
   ]
  },
  {
   "cell_type": "code",
   "execution_count": 17,
   "id": "7d7568cb",
   "metadata": {},
   "outputs": [],
   "source": [
    "class UserchatHistory(BaseModel):\n",
    "    \"\"\"Response model for user chat history.\"\"\"\n",
    "    user_id: int\n",
    "    chat_history: list[ChatRecord]"
   ]
  },
  {
   "cell_type": "code",
   "execution_count": 18,
   "id": "3804512b",
   "metadata": {},
   "outputs": [],
   "source": [
    "\n",
    "chat_history = [\n",
    "    {\n",
    "        \"user_id\": 1,\n",
    "        \"chat_history\": [\n",
    "            {\"role\": \"system\", \"content\": \"You are a helpful assistant.\"},\n",
    "            {\"role\": \"user\", \"content\": \"Hello, how are you?\"},\n",
    "            {\"role\": \"assistant\", \"content\": \"I'm doing well, thank you! How can I assist you today?\",\"reference\": []},\n",
    "            {\"role\": \"user\", \"content\": \"Tell me a joke.\"},\n",
    "]\n",
    "    },\n",
    "    {\n",
    "        \"user_id\": 2,\n",
    "        \"chat_history\": [\n",
    "            {\"role\": \"system\", \"content\": \"You are a helpful assistant.\"},\n",
    "            {\"role\": \"user\", \"content\": \"What is the weather like today?\"},\n",
    "            {\"role\": \"assistant\", \"content\": \"The weather is sunny with a high of 75°F.\",\"reference\": []},\n",
    "            {\"role\": \"user\", \"content\": \"Great, thank you!\"},       \n",
    "        ]\n",
    "    },\n",
    "    {\n",
    "        \"user_id\": 3,\n",
    "        \"chat_history\": [\n",
    "            {\"role\": \"system\", \"content\": \"You are a helpful assistant.\"},\n",
    "            {\"role\": \"user\", \"content\": \"Can you help me with my homework?\"},\n",
    "            {\"role\": \"assistant\", \"content\": \"Of course! What subject is your homework in?\", \"reference\": []},\n",
    "            {\"role\": \"user\", \"content\": \"It's math.\"},\n",
    "        ]\n",
    "    },\n",
    "    {\n",
    "        \"user_id\": 4,\n",
    "        \"chat_history\": [\n",
    "            {\"role\": \"system\", \"content\": \"You are a helpful assistant.\"},\n",
    "            {\"role\": \"user\", \"content\": \"What is the capital of France?\"},\n",
    "            {\"role\": \"assistant\", \"content\": \"The capital of France is Paris.\", \"reference\": []},\n",
    "            {\"role\": \"user\", \"content\": \"Thanks!\"},\n",
    "        ]\n",
    "    },\n",
    "    {\n",
    "        \"user_id\": 5,\n",
    "        \"chat_history\": [\n",
    "            {\"role\": \"system\", \"content\": \"You are a helpful assistant.\"},\n",
    "            {\"role\": \"user\", \"content\": \"Can you recommend a good book?\"},\n",
    "            {\"role\": \"assistant\", \"content\": \"Sure! 'To Kill a Mockingbird' is a great read.\", \"reference\": []},\n",
    "            {\"role\": \"user\", \"content\": \"I've read that one. Something else?\"},\n",
    "        ]\n",
    "    }\n",
    "]  "
   ]
  },
  {
   "cell_type": "code",
   "execution_count": null,
   "id": "fcf2358c",
   "metadata": {},
   "outputs": [],
   "source": [
    "def add_chat_history(user_id: int, question: str, answer: str, reference: Optional[str] = None):\n",
    "    \"\"\"\n",
    "    Add a new chat record to the chat history for a specific user.\n",
    "\n",
    "    Args:\n",
    "        user_id (int): The ID of the user.\n",
    "        question (str): The user's question.\n",
    "        answer (str): The assistant's answer.\n",
    "        reference (Optional[str]): An optional reference for the answer.\n",
    "\n",
    "    \"\"\"\n",
    "    try:\n",
    "        clean_references = []\n",
    "        # for ref in references:\n",
    "            # if hasattr(ref, \"page_content\"):\n",
    "            #     clean_references.append(ref.page_content)\n",
    "            # else:\n",
    "            #     clean_references.append(str(ref))\n",
    "        for ref in references:\n",
    "            clean_references.append(ref.page_content)\n",
    "        for user in chat_history:\n",
    "            if user[\"user_id\"] == user_id:\n",
    "                user[\"chat_history\"].append({\"role\": \"user\", \"content\": question})\n",
    "                user[\"chat_history\"].append({\"role\": \"assistant\", \"content\": answer, \"reference\": clean_references})\n",
    "                return \n",
    "    except Exception as e:\n",
    "        logger.exception(f\"Error : {e}\")\n",
    "        raise        \n"
   ]
  },
  {
   "cell_type": "code",
   "execution_count": null,
   "id": "2a5c5bb5",
   "metadata": {},
   "outputs": [],
   "source": [
    "# def add_chat_history(user_id, question, answer, references):\n",
    "#     # Convert Document objects to strings \n",
    "#     clean_references = []\n",
    "#     for ref in references:\n",
    "#         if hasattr(ref, \"page_content\"):\n",
    "#             clean_references.append(ref.page_content)\n",
    "#         else:\n",
    "#             clean_references.append(str(ref))\n",
    "\n",
    "#     chat_entry = {\n",
    "#         \"question\": question,\n",
    "#         \"answer\": answer,\n",
    "#         \"reference\": clean_references\n",
    "#     }"
   ]
  },
  {
   "cell_type": "code",
   "execution_count": 30,
   "id": "59ea8ff4",
   "metadata": {},
   "outputs": [],
   "source": [
    "user_input ={\n",
    "    \"user_id\": 1,\n",
    "    \"question\": question,\n",
    "\n",
    "}"
   ]
  },
  {
   "cell_type": "code",
   "execution_count": 31,
   "id": "633aafae",
   "metadata": {},
   "outputs": [],
   "source": [
    "add_chat_history( user_input[\"user_id\"],\n",
    "        user_input[\"question\"], answer,references )"
   ]
  },
  {
   "cell_type": "code",
   "execution_count": 37,
   "id": "d2e0c055",
   "metadata": {},
   "outputs": [],
   "source": [
    "user_id = 2"
   ]
  },
  {
   "cell_type": "code",
   "execution_count": 36,
   "id": "de97bfe7",
   "metadata": {},
   "outputs": [],
   "source": [
    "#Get chat history\n",
    "from fastapi import FastAPI, HTTPException, status , Query\n",
    "def get_chat_history(user_id: int) -> UserchatHistory:\n",
    "    logger.info(f\"chat history accessed for user_id={user_id}\")\n",
    "    \"\"\"\n",
    "    Get the chat history for a specific user.\n",
    "\n",
    "    Args:\n",
    "        user_id (int): The ID of the user whose chat history is to be retrieved.\n",
    "\n",
    "    Returns:\n",
    "        UserchatHistory: The chat history of the user.\n",
    "    \"\"\"\n",
    "    for user in chat_history:\n",
    "        if user[\"user_id\"] == user_id:\n",
    "            try:\n",
    "                logger.debug(f\"Returning chat history for user_id={user_id}\")\n",
    "                user_chat_history = UserchatHistory(user_id=user_id, chat_history=user[\"chat_history\"])\n",
    "                print(user_chat_history)\n",
    "                return user_chat_history\n",
    "            except Exception as e:\n",
    "                logger.exception(f\"Error retrieving chat history for user_id={user_id}: {e}\")\n",
    "                raise HTTPException(\n",
    "                    status_code=status.HTTP_500_INTERNAL_SERVER_ERROR,\n",
    "                    detail=\"An error occurred while retrieving chat history.\"\n",
    "                )\n",
    "\n",
    "    logger.warning(f\"Chat history not found for user_id={user_id}\")\n",
    "    raise HTTPException(\n",
    "        status_code=status.HTTP_404_NOT_FOUND,\n",
    "        detail=\"User not found.\"\n",
    "    )\n"
   ]
  },
  {
   "cell_type": "code",
   "execution_count": 41,
   "id": "ea378497",
   "metadata": {},
   "outputs": [],
   "source": [
    "from dataclasses import dataclass, field\n",
    "from typing import List\n",
    "@dataclass\n",
    "class Student:\n",
    "   name: str\n",
    "   grades: List[int] = field(default_factory=list) # Use default_factory for mutable defaults\n",
    "# Create new Student instances\n"
   ]
  },
  {
   "cell_type": "code",
   "execution_count": 42,
   "id": "1323915b",
   "metadata": {},
   "outputs": [],
   "source": [
    "student1 = Student(name=\"Alice\")"
   ]
  },
  {
   "cell_type": "code",
   "execution_count": 43,
   "id": "5a87b779",
   "metadata": {},
   "outputs": [
    {
     "name": "stdout",
     "output_type": "stream",
     "text": [
      "Student(name='Alice', grades=[])\n"
     ]
    }
   ],
   "source": [
    "print(student1)"
   ]
  },
  {
   "cell_type": "code",
   "execution_count": null,
   "id": "7d1e5995",
   "metadata": {},
   "outputs": [],
   "source": [
    "student1 = Student(name=\"Alice\")\n",
    "student2 = Student(name=\"Bob\", grades=[90, 85])\n",
    "# Modify student1's grades\n",
    "student1.grades.append(95)\n",
    "print(student1) # Output: Student(name='Alice', grades=[95])\n",
    "print(student2) # Output: Student(name='Bob', grades=[90, 85])"
   ]
  }
 ],
 "metadata": {
  "kernelspec": {
   "display_name": ".venv",
   "language": "python",
   "name": "python3"
  },
  "language_info": {
   "codemirror_mode": {
    "name": "ipython",
    "version": 3
   },
   "file_extension": ".py",
   "mimetype": "text/x-python",
   "name": "python",
   "nbconvert_exporter": "python",
   "pygments_lexer": "ipython3",
   "version": "3.12.2"
  }
 },
 "nbformat": 4,
 "nbformat_minor": 5
}
