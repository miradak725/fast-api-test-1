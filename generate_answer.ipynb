{
 "cells": [
  {
   "cell_type": "code",
   "execution_count": 3,
   "id": "e6f4a2b2",
   "metadata": {},
   "outputs": [],
   "source": [
    "import faiss\n",
    "import os\n",
    "from langchain_community.vectorstores import FAISS\n",
    "from langchain_huggingface import HuggingFaceEmbeddings"
   ]
  },
  {
   "cell_type": "code",
   "execution_count": 4,
   "id": "5d6aa119",
   "metadata": {},
   "outputs": [
    {
     "name": "stderr",
     "output_type": "stream",
     "text": [
      "/home/lahirum/Documents/Mirada/RnD/FastApi/test2/.venv/lib/python3.12/site-packages/torch/cuda/__init__.py:182: UserWarning: CUDA initialization: Unexpected error from cudaGetDeviceCount(). Did you run some cuda functions before calling NumCudaDevices() that might have already set an error? Error 804: forward compatibility was attempted on non supported HW (Triggered internally at /pytorch/c10/cuda/CUDAFunctions.cpp:119.)\n",
      "  return torch._C._cuda_getDeviceCount() > 0\n"
     ]
    }
   ],
   "source": [
    "embeddings=HuggingFaceEmbeddings(model_name=\"BAAI/bge-large-en\")"
   ]
  },
  {
   "cell_type": "code",
   "execution_count": 5,
   "id": "b78efda6",
   "metadata": {},
   "outputs": [],
   "source": [
    "#load vector store\n",
    "vector_store=FAISS.load_local(\"vector_store\",embeddings,allow_dangerous_deserialization=True)"
   ]
  },
  {
   "cell_type": "code",
   "execution_count": 6,
   "id": "af946771",
   "metadata": {},
   "outputs": [],
   "source": [
    "question = \"What is the total face value of the convertible note?\""
   ]
  },
  {
   "cell_type": "code",
   "execution_count": 7,
   "id": "78fc35e5",
   "metadata": {},
   "outputs": [],
   "source": [
    "#Maximum marginal relevance retrieval\n",
    "retriever = vector_store.as_retriever(\n",
    "    search_type=\"mmr\"\n",
    ")"
   ]
  },
  {
   "cell_type": "code",
   "execution_count": 8,
   "id": "f256f6a1",
   "metadata": {},
   "outputs": [
    {
     "name": "stdout",
     "output_type": "stream",
     "text": [
      "[Document(id='3e138805-138c-4410-b78c-2d1f75ee707e', metadata={'source': './uploaded_pdfs/sample.txt'}, page_content='| Net cash from/(used in) investing activities                                              | 2,578,486                | (489,175)                    |\\n| Cash flows from financing activities                                                      |                          |                              |\\n| Proceeds from the issue of shares                                                         | -                        | 618,460                      |\\n| Payment of share issue costs                                                              | -                        | (22,500)                     |\\n| Payment of convertible note issue costs                                                   | (71,446)                 | -                            |\\n| Proceeds from borrowings - convertible notes payable                                      | 500,000                  | 1,400,000                    |\\n| Net cash from/(used in) financing activities                                              | 428,554                  | 1,995,960                    |\\n| Net decrease in cash and cash equivalents                                                 | (696,706)                | (2,863,234)                  |\\n| Cash and cash equivalents at the beginning of the financial year                          | 1,605,067                | 4,471,616                    |\\n| Effects of exchange rate changes on cash and cash equivalents                             | 12,574                   | (3,315)                      |\\n| Cash and cash equivalents at the end of the financial year                                | 920,935                  | 1,605,067                    |'), Document(id='f00d5e6c-b49a-4338-b3b8-e4cbd43e8bde', metadata={'source': './uploaded_pdfs/sample.txt'}, page_content='Cipherpoint Limited (Formerly known as Covata Limited) Notes to the consolidated financial statements 31 March 2020\\n\\n<!-- image -->'), Document(id='eb8b3af5-d8bc-47a1-8262-dfa6c3191334', metadata={'source': './uploaded_pdfs/sample.txt'}, page_content=\"## Note 15. Current liabilities - contract liabilities\\n\\n|                                                                                                                                                    | Consolidated   | Consolidated   |\\n|----------------------------------------------------------------------------------------------------------------------------------------------------|----------------|----------------|\\n|                                                                                                                                                    | 31 Mar 2020 $  | 31 Mar 2019 $  |\\n| Contract liabilities                                                                                                                               | 188,990        | 163,882        |\\n| Reconciliation                                                                                                                                     |                |                |\\n| Reconciliation of the written down values at the beginning and end of the current and previous financial period are set out below: Opening balance | 163,882        | 559,003        |\\n| Payments received in advance                                                                                                                       | 571,025        | 197,910        |\\n| Transfer on transition to AASB 15 on 1 July 2018                                                                                                   | -              | (204,748)      |\\n| Contract liabilities held for sale                                                                                                                 | -              | (111,717)      |\\n| Contract liabilities disposed                                                                                                                      | (178,176)      |                |\\n| Transfer to revenue - performance obligations satisfied                                                                                            | (367,741)      | (276,566)      |\\n| Closing balance                                                                                                                                    | 188,990        | 163,882        |\\n\\n## Unsatisfied performance obligations (current and non-current)\\n\\nThe aggregate amount of the transaction price allocated to the performance obligations that are unsatisfied at the end of the reporting period was $217,522 as at 31 March 2020 ($182,431 as at 31 March 2019) and is expected to be recognised as revenue in future periods as follows:\\n\\n-\\n\\n-\\n\\n|                     | Consolidated   | Consolidated   |\\n|---------------------|----------------|----------------|\\n|                     | 31 Mar 2020 $  | 31 Mar 2019 $  |\\n| Within 6 months     | 124,112        | 93,051         |\\n| 6 to 12 months      | 60,198         | 70,888         |\\n| 12 to 18 months     | 10,445         | 18,492         |\\n| 18 to 24 months     | 8,696          | -              |\\n| More than 24 months | 14,071         | -              |\\n|                     | 217,522        | 182,431        |\\n\\nThe unsatisfied performance obligations include the non-current balance.\\n\\nCipherpoint Limited (Formerly known as Covata Limited) Notes to the consolidated financial statements 31 March 2020\\n\\n<!-- image -->\\n\\n## Note 16. Current liabilities - borrowings\\n\\n|                           | Consolidated    | Consolidated          |\\n|---------------------------|-----------------|-----------------------|\\n| Derivative liability      | 31 Mar 2020 $ - | 31 Mar 2019 $ 253,433 |\\n|                           | Consolidated    | Consolidated          |\\n|                           | 31 Mar 2020 $   | 31 Mar 2019 $         |\\n| Convertible notes payable | -               | 1,031,466             |\\n\\nRefer to note 22 for further information on financial instruments.\\n\\nThe Company issued 77,777,781 convertible notes at a price of $0.018 per note with 58,620,689 attaching warrants exercisable at $0.028 and with a term of 18 months from 22 February 2019.\\n\\nThe total face value of the convertible note was $1,400,000. This liability comprised of three components, being the host debt liability ($878,548), the embedded derivative liability ($253,433) for the conversion feature and the cost of the warrant issue ($268,019). The interest expense on the host liability component up to 31 March 2019 amounted to $152,918.\\n\\nThere was no movement in the fair value of the derivative liability at 31 March 2019. Due to the 6 month expiry of the convertible notes, the derivative liability was classified as current.\\n\\nThe cost of the warrants is disclosed in note 20.\\n\\nThe Company's obligations under the convertible notes was extinguished when the Cocoon sale was settled. Refer to note 8 for further information.\"), Document(id='81b3cb61-8ebf-453d-aa0d-e12974265a44', metadata={'source': './uploaded_pdfs/sample.txt'}, page_content=\"## Foreign currency translation\\n\\n## Foreign currency transactions\\n\\nForeign currency transactions are translated into Australian dollars using the exchange rates prevailing at the dates of the transactions. Foreign exchange gains and losses resulting from the settlement of such transactions and from the translation at financial year-end exchange rates of monetary assets and liabilities denominated in foreign currencies are recognised in profit or loss.\\n\\n## Foreign operations\\n\\nThe assets and liabilities of foreign operations are translated into Australian dollars using the exchange rates at the reporting date. The revenues and expenses of foreign operations are translated into Australian dollars using the average exchange rates, which approximate the rates at the dates of the transactions, for the period. All resulting foreign exchange differences are recognised in other comprehensive income through the foreign currency reserve in equity.\\n\\nThe foreign currency reserve is recognised in profit or loss when the foreign operation or net investment is disposed of.\\n\\n## Revenue recognition\\n\\nThe Group recognises revenue as follows:\\n\\n## Revenue from contracts with customers\\n\\nRevenue is recognised at an amount that reflects the consideration to which the Group is expected to be entitled in exchange for transferring goods or services to a customer. For each contract with a customer, the Group: identifies the contract with a customer; identifies the performance obligations in the contract; determines the transaction price which takes into account estimates of variable consideration and the time value of money; allocates the transaction price to the separate performance obligations on the basis of the relative stand-alone selling price of each distinct good or service to be delivered; and recognises revenue when or as each performance obligation is satisfied in a manner that depicts the transfer to the customer of the goods or services promised.\\n\\nVariable  consideration  within  the  transaction  price,  if  any,  reflects  concessions  provided  to  the  customer  such  as discounts, rebates and refunds, any potential bonuses receivable from the customer and any other contingent events. Such estimates are determined using either the 'expected value' or 'most likely amount' method. The measurement of variable consideration is subject to a constraining principle whereby revenue will only be recognised to the extent that it is  highly  probable  that  a  significant  reversal  in  the  amount  of  cumulative  revenue  recognised  will  not  occur.  The measurement  constraint  continues  until  the  uncertainty  associated  with  the  variable  consideration  is  subsequently resolved. Amounts received that are subject to the constraining principle are initially recognised as deferred revenue in the form of a separate refund liability.\\n\\n## Rendering of services\\n\\nRevenue from a contract to provide services is recognised over time as the services are rendered based on either a fixed price or an hourly rate.\\n\\nCipherpoint Limited (Formerly known as Covata Limited) Notes to the consolidated financial statements 31 March 2020\\n\\n## Note 2. Significant accounting policies (continued)\\n\\nTechnology related products and services are comprised of the following services:\\n\\n## (a) Software licence\\n\\nFor a sale of a software licence that the Group is not subject to significant integration services or continued maintenance and support, control transfers at the point in time the customer takes undisputed delivery of the goods. When such items are either customised or sold together with significant integration services, the goods and services represent a single combined performance obligation over which control is considered to transfer over time. This is because the combined product is unique to each customer (has no alternative use) and the Group has an enforceable right to payment for the work completed to date. Revenue for these performance obligations is recognised over time as the Group continues to support the license.\\n\\n## (b) Maintenance and support\\n\\nThe Group enters into maintenance and support contracts with its customers generally between one and three years in length, which includes customer support, updates and upgrades. Customers generally pay in advance for each 12-month service period and the relevant payment due dates are specified in each contract. Revenue is recognised over the life of the contract.\\n\\n## Research and development tax concession\\n\\nResearch and development tax incentives are recognised in the profit or loss when there is reasonable assurance that the Group will comply with the conditions attached to them.\")]\n"
     ]
    }
   ],
   "source": [
    "retrieved_docs=retriever.invoke(question)\n",
    "print(retrieved_docs)"
   ]
  },
  {
   "cell_type": "code",
   "execution_count": 9,
   "id": "028d5702",
   "metadata": {},
   "outputs": [],
   "source": [
    "context=\"\\\\n\".join([d.page_content for d in retrieved_docs])"
   ]
  },
  {
   "cell_type": "code",
   "execution_count": 10,
   "id": "34741c4f",
   "metadata": {},
   "outputs": [
    {
     "data": {
      "text/plain": [
       "\"| Net cash from/(used in) investing activities                                              | 2,578,486                | (489,175)                    |\\n| Cash flows from financing activities                                                      |                          |                              |\\n| Proceeds from the issue of shares                                                         | -                        | 618,460                      |\\n| Payment of share issue costs                                                              | -                        | (22,500)                     |\\n| Payment of convertible note issue costs                                                   | (71,446)                 | -                            |\\n| Proceeds from borrowings - convertible notes payable                                      | 500,000                  | 1,400,000                    |\\n| Net cash from/(used in) financing activities                                              | 428,554                  | 1,995,960                    |\\n| Net decrease in cash and cash equivalents                                                 | (696,706)                | (2,863,234)                  |\\n| Cash and cash equivalents at the beginning of the financial year                          | 1,605,067                | 4,471,616                    |\\n| Effects of exchange rate changes on cash and cash equivalents                             | 12,574                   | (3,315)                      |\\n| Cash and cash equivalents at the end of the financial year                                | 920,935                  | 1,605,067                    |\\\\nCipherpoint Limited (Formerly known as Covata Limited) Notes to the consolidated financial statements 31 March 2020\\n\\n<!-- image -->\\\\n## Note 15. Current liabilities - contract liabilities\\n\\n|                                                                                                                                                    | Consolidated   | Consolidated   |\\n|----------------------------------------------------------------------------------------------------------------------------------------------------|----------------|----------------|\\n|                                                                                                                                                    | 31 Mar 2020 $  | 31 Mar 2019 $  |\\n| Contract liabilities                                                                                                                               | 188,990        | 163,882        |\\n| Reconciliation                                                                                                                                     |                |                |\\n| Reconciliation of the written down values at the beginning and end of the current and previous financial period are set out below: Opening balance | 163,882        | 559,003        |\\n| Payments received in advance                                                                                                                       | 571,025        | 197,910        |\\n| Transfer on transition to AASB 15 on 1 July 2018                                                                                                   | -              | (204,748)      |\\n| Contract liabilities held for sale                                                                                                                 | -              | (111,717)      |\\n| Contract liabilities disposed                                                                                                                      | (178,176)      |                |\\n| Transfer to revenue - performance obligations satisfied                                                                                            | (367,741)      | (276,566)      |\\n| Closing balance                                                                                                                                    | 188,990        | 163,882        |\\n\\n## Unsatisfied performance obligations (current and non-current)\\n\\nThe aggregate amount of the transaction price allocated to the performance obligations that are unsatisfied at the end of the reporting period was $217,522 as at 31 March 2020 ($182,431 as at 31 March 2019) and is expected to be recognised as revenue in future periods as follows:\\n\\n-\\n\\n-\\n\\n|                     | Consolidated   | Consolidated   |\\n|---------------------|----------------|----------------|\\n|                     | 31 Mar 2020 $  | 31 Mar 2019 $  |\\n| Within 6 months     | 124,112        | 93,051         |\\n| 6 to 12 months      | 60,198         | 70,888         |\\n| 12 to 18 months     | 10,445         | 18,492         |\\n| 18 to 24 months     | 8,696          | -              |\\n| More than 24 months | 14,071         | -              |\\n|                     | 217,522        | 182,431        |\\n\\nThe unsatisfied performance obligations include the non-current balance.\\n\\nCipherpoint Limited (Formerly known as Covata Limited) Notes to the consolidated financial statements 31 March 2020\\n\\n<!-- image -->\\n\\n## Note 16. Current liabilities - borrowings\\n\\n|                           | Consolidated    | Consolidated          |\\n|---------------------------|-----------------|-----------------------|\\n| Derivative liability      | 31 Mar 2020 $ - | 31 Mar 2019 $ 253,433 |\\n|                           | Consolidated    | Consolidated          |\\n|                           | 31 Mar 2020 $   | 31 Mar 2019 $         |\\n| Convertible notes payable | -               | 1,031,466             |\\n\\nRefer to note 22 for further information on financial instruments.\\n\\nThe Company issued 77,777,781 convertible notes at a price of $0.018 per note with 58,620,689 attaching warrants exercisable at $0.028 and with a term of 18 months from 22 February 2019.\\n\\nThe total face value of the convertible note was $1,400,000. This liability comprised of three components, being the host debt liability ($878,548), the embedded derivative liability ($253,433) for the conversion feature and the cost of the warrant issue ($268,019). The interest expense on the host liability component up to 31 March 2019 amounted to $152,918.\\n\\nThere was no movement in the fair value of the derivative liability at 31 March 2019. Due to the 6 month expiry of the convertible notes, the derivative liability was classified as current.\\n\\nThe cost of the warrants is disclosed in note 20.\\n\\nThe Company's obligations under the convertible notes was extinguished when the Cocoon sale was settled. Refer to note 8 for further information.\\\\n## Foreign currency translation\\n\\n## Foreign currency transactions\\n\\nForeign currency transactions are translated into Australian dollars using the exchange rates prevailing at the dates of the transactions. Foreign exchange gains and losses resulting from the settlement of such transactions and from the translation at financial year-end exchange rates of monetary assets and liabilities denominated in foreign currencies are recognised in profit or loss.\\n\\n## Foreign operations\\n\\nThe assets and liabilities of foreign operations are translated into Australian dollars using the exchange rates at the reporting date. The revenues and expenses of foreign operations are translated into Australian dollars using the average exchange rates, which approximate the rates at the dates of the transactions, for the period. All resulting foreign exchange differences are recognised in other comprehensive income through the foreign currency reserve in equity.\\n\\nThe foreign currency reserve is recognised in profit or loss when the foreign operation or net investment is disposed of.\\n\\n## Revenue recognition\\n\\nThe Group recognises revenue as follows:\\n\\n## Revenue from contracts with customers\\n\\nRevenue is recognised at an amount that reflects the consideration to which the Group is expected to be entitled in exchange for transferring goods or services to a customer. For each contract with a customer, the Group: identifies the contract with a customer; identifies the performance obligations in the contract; determines the transaction price which takes into account estimates of variable consideration and the time value of money; allocates the transaction price to the separate performance obligations on the basis of the relative stand-alone selling price of each distinct good or service to be delivered; and recognises revenue when or as each performance obligation is satisfied in a manner that depicts the transfer to the customer of the goods or services promised.\\n\\nVariable  consideration  within  the  transaction  price,  if  any,  reflects  concessions  provided  to  the  customer  such  as discounts, rebates and refunds, any potential bonuses receivable from the customer and any other contingent events. Such estimates are determined using either the 'expected value' or 'most likely amount' method. The measurement of variable consideration is subject to a constraining principle whereby revenue will only be recognised to the extent that it is  highly  probable  that  a  significant  reversal  in  the  amount  of  cumulative  revenue  recognised  will  not  occur.  The measurement  constraint  continues  until  the  uncertainty  associated  with  the  variable  consideration  is  subsequently resolved. Amounts received that are subject to the constraining principle are initially recognised as deferred revenue in the form of a separate refund liability.\\n\\n## Rendering of services\\n\\nRevenue from a contract to provide services is recognised over time as the services are rendered based on either a fixed price or an hourly rate.\\n\\nCipherpoint Limited (Formerly known as Covata Limited) Notes to the consolidated financial statements 31 March 2020\\n\\n## Note 2. Significant accounting policies (continued)\\n\\nTechnology related products and services are comprised of the following services:\\n\\n## (a) Software licence\\n\\nFor a sale of a software licence that the Group is not subject to significant integration services or continued maintenance and support, control transfers at the point in time the customer takes undisputed delivery of the goods. When such items are either customised or sold together with significant integration services, the goods and services represent a single combined performance obligation over which control is considered to transfer over time. This is because the combined product is unique to each customer (has no alternative use) and the Group has an enforceable right to payment for the work completed to date. Revenue for these performance obligations is recognised over time as the Group continues to support the license.\\n\\n## (b) Maintenance and support\\n\\nThe Group enters into maintenance and support contracts with its customers generally between one and three years in length, which includes customer support, updates and upgrades. Customers generally pay in advance for each 12-month service period and the relevant payment due dates are specified in each contract. Revenue is recognised over the life of the contract.\\n\\n## Research and development tax concession\\n\\nResearch and development tax incentives are recognised in the profit or loss when there is reasonable assurance that the Group will comply with the conditions attached to them.\""
      ]
     },
     "execution_count": 10,
     "metadata": {},
     "output_type": "execute_result"
    }
   ],
   "source": [
    "context"
   ]
  },
  {
   "cell_type": "code",
   "execution_count": null,
   "id": "3d2ff878",
   "metadata": {},
   "outputs": [],
   "source": [
    "chat_template = [\n",
    "        {\"role\": \"system\", \"content\": \"\"\"Using the information contained in the context,\n",
    "give a comprehensive answer to the question.\n",
    "Respond only to the question asked, response should be concise and relevant to the question.\n",
    "Provide the number of the source document when relevant.\n",
    "If the answer cannot be deduced from the context, do not give an answer.\"\"\"},\n",
    "        {\"role\": \"user\", \"content\": f\"\"\"Context:\n",
    "{context}\n",
    "---\n",
    "Now here is the question you need to answer.\n",
    "\n",
    "Question: {question}\"\"\"},\n",
    "    ]"
   ]
  },
  {
   "cell_type": "code",
   "execution_count": null,
   "id": "2455198d",
   "metadata": {},
   "outputs": [],
   "source": [
    "chat_template"
   ]
  },
  {
   "cell_type": "code",
   "execution_count": null,
   "id": "3627f407",
   "metadata": {},
   "outputs": [],
   "source": [
    "#Using an ollama model\n",
    "\n",
    "from ollama import chat\n",
    "from ollama import ChatResponse\n",
    "\n",
    "response: ChatResponse = chat(\n",
    "        model=\"llama3.2\", \n",
    "        messages=chat_template,\n",
    "        think=False,\n",
    "        options={\n",
    "        \"num_predict\": 4096,\n",
    "        \"temperature\": 0.6,\n",
    "        \"top_p\": 0.95,\n",
    "        \"top_k\": 20,\n",
    "        \"repeat_penalty\": 1.05,\n",
    "        }\n",
    "    )\n",
    "        \n"
   ]
  },
  {
   "cell_type": "code",
   "execution_count": null,
   "id": "3018e88e",
   "metadata": {},
   "outputs": [],
   "source": [
    "response['message']['content']"
   ]
  },
  {
   "cell_type": "markdown",
   "id": "b60e8a59",
   "metadata": {},
   "source": [
    "Using ChatOllama"
   ]
  },
  {
   "cell_type": "code",
   "execution_count": 11,
   "id": "327bbc3b",
   "metadata": {},
   "outputs": [],
   "source": [
    "from langchain_core.prompts import ChatPromptTemplate\n",
    "\n",
    "# Define a chat prompt template composed of system and user messages\n",
    "chat_template= ChatPromptTemplate.from_messages([\n",
    "    {\n",
    "        \"role\": \"system\",\n",
    "        \"content\": \"\"\"Using the information contained in the context,\n",
    "give a comprehensive answer to the question.\n",
    "Respond only to the question asked, response should be concise and relevant to the question.\n",
    "Provide the number of the source document when relevant.\n",
    "If the answer cannot be deduced from the context, do not give an answer.\"\"\",\n",
    "    },\n",
    "    {\n",
    "        \"role\": \"user\",\n",
    "        \"content\": f\"\"\"Context:\n",
    "{context}\n",
    "---\n",
    "Now here is the question you need to answer.\n",
    "\n",
    "Question: {question}\"\"\",\n",
    "    },\n",
    "])\n"
   ]
  },
  {
   "cell_type": "code",
   "execution_count": 12,
   "id": "d24954d5",
   "metadata": {},
   "outputs": [],
   "source": [
    "from langchain_ollama import ChatOllama\n",
    "llm= ChatOllama(\n",
    "    model=\"llama3.2\", \n",
    "    messages=chat_template,\n",
    "    think=False,\n",
    "    options={\n",
    "        \"num_predict\": 4096,\n",
    "        \"temperature\": 0.6,\n",
    "        \"top_p\": 0.95,\n",
    "        \"top_k\": 20,\n",
    "        \"repeat_penalty\": 1.05,\n",
    "    }    \n",
    ")"
   ]
  },
  {
   "cell_type": "code",
   "execution_count": null,
   "id": "3e9553b8",
   "metadata": {},
   "outputs": [],
   "source": [
    "# from langchain_core.runnables import RunnablePassthrough\n",
    "# from langchain_core.output_parsers import StrOutputParser\n",
    "\n",
    "# Define a RAG chain using a pipeline of runnables\n",
    "# rag_chain=(\n",
    "#     {\"context\":context,   # Combine retrieved docs\n",
    "#      \"question\":RunnablePassthrough(),\n",
    "#      }\n",
    "#      |chat_template\n",
    "#      |response['message']['content']\n",
    "chain = chat_template|llm\n",
    "     \n",
    "     \n"
   ]
  },
  {
   "cell_type": "code",
   "execution_count": 14,
   "id": "f180cb2e",
   "metadata": {},
   "outputs": [],
   "source": [
    "answer=chain.invoke({\"question\": question})"
   ]
  },
  {
   "cell_type": "code",
   "execution_count": 16,
   "id": "8bf2d463",
   "metadata": {},
   "outputs": [
    {
     "data": {
      "text/plain": [
       "AIMessage(content='The total face value of the convertible note was $1,400,000.', additional_kwargs={}, response_metadata={'model': 'llama3.2', 'created_at': '2025-10-22T04:52:42.474378833Z', 'done': True, 'done_reason': 'stop', 'total_duration': 81436335216, 'load_duration': 1286598240, 'prompt_eval_count': 2012, 'prompt_eval_duration': 78073000000, 'eval_count': 17, 'eval_duration': 1550000000, 'model_name': 'llama3.2', 'model_provider': 'ollama'}, id='lc_run--19800c43-abeb-47cd-9530-b1b65a19d6b7-0', usage_metadata={'input_tokens': 2012, 'output_tokens': 17, 'total_tokens': 2029})"
      ]
     },
     "execution_count": 16,
     "metadata": {},
     "output_type": "execute_result"
    }
   ],
   "source": [
    "answer"
   ]
  },
  {
   "cell_type": "code",
   "execution_count": 15,
   "id": "b2098550",
   "metadata": {},
   "outputs": [
    {
     "data": {
      "text/plain": [
       "'The total face value of the convertible note was $1,400,000.'"
      ]
     },
     "execution_count": 15,
     "metadata": {},
     "output_type": "execute_result"
    }
   ],
   "source": [
    "answer.content"
   ]
  },
  {
   "cell_type": "code",
   "execution_count": 17,
   "id": "aba30e9b",
   "metadata": {},
   "outputs": [],
   "source": [
    "#Returning Multiple Values using Tuples\n",
    "def multiple():\n",
    "    operation = \"Sum\" \n",
    "    total = 5+10\n",
    "    return operation, total;\n",
    "\n",
    "\n"
   ]
  },
  {
   "cell_type": "code",
   "execution_count": 18,
   "id": "81b0a5a0",
   "metadata": {},
   "outputs": [],
   "source": [
    "operation, total = multiple()"
   ]
  },
  {
   "cell_type": "code",
   "execution_count": 19,
   "id": "5d4a67c9",
   "metadata": {},
   "outputs": [
    {
     "name": "stdout",
     "output_type": "stream",
     "text": [
      "Sum 15\n"
     ]
    }
   ],
   "source": [
    "\n",
    "print(operation, total)\n",
    "#Output = Sum 15"
   ]
  },
  {
   "cell_type": "code",
   "execution_count": null,
   "id": "81361396",
   "metadata": {},
   "outputs": [],
   "source": []
  }
 ],
 "metadata": {
  "kernelspec": {
   "display_name": ".venv",
   "language": "python",
   "name": "python3"
  },
  "language_info": {
   "codemirror_mode": {
    "name": "ipython",
    "version": 3
   },
   "file_extension": ".py",
   "mimetype": "text/x-python",
   "name": "python",
   "nbconvert_exporter": "python",
   "pygments_lexer": "ipython3",
   "version": "3.12.2"
  }
 },
 "nbformat": 4,
 "nbformat_minor": 5
}
